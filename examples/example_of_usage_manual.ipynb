{
 "cells": [
  {
   "cell_type": "markdown",
   "metadata": {},
   "source": [
    "## Example of usage - Ragger (created for v0.4.0)\n",
    "\n",
    "This document is an tutorial how to get started with Ragger system. We will go through the main steps and procedures of setting up and using the semantic search capabilities."
   ]
  },
  {
   "cell_type": "markdown",
   "metadata": {},
   "source": [
    "### Before we start\n",
    "\n",
    "The system has a number of necessary requirements which have to be fulfilled to assure proper behaviour of its functionalities.\n",
    "The required software:\n",
    "* Python 3.10 or greater\n",
    "* Tesseract version 5 or greater\n",
    "* Poppler\n",
    "* Neo4j\n",
    "* Git\n",
    "\n",
    "Both Tesseract and Poppler binaries have to be in the PATH.\n"
   ]
  },
  {
   "cell_type": "markdown",
   "metadata": {},
   "source": [
    "### Instalation\n",
    "\n",
    "To install the system locally it is necessary to install Ragger package from the source. The following code snippets show a possible ways to perform this steps (currently package is not mature enough to publish it on PYPI). "
   ]
  },
  {
   "cell_type": "code",
   "execution_count": null,
   "metadata": {
    "vscode": {
     "languageId": "shellscript"
    }
   },
   "outputs": [],
   "source": [
    "# If you have not cloned the repository\n",
    "git clone https://github.com/ArturOle/Ragger.git\n",
    "python -m pip install .\n"
   ]
  },
  {
   "cell_type": "code",
   "execution_count": null,
   "metadata": {
    "vscode": {
     "languageId": "shellscript"
    }
   },
   "outputs": [],
   "source": [
    "\n",
    "# If you have cloned the repository, and you are in the root directory\n",
    "python -m pip install ."
   ]
  },
  {
   "cell_type": "markdown",
   "metadata": {},
   "source": [
    "After installation it is necessary to update the `config.ini` file for connection with your Neo4j database.\n",
    "\n",
    "<span style=\"color:red\">Disclaimer! Current version will perform operations in default Neo4j database.</span>\n",
    "It is advisable to create a separate instance for testing purpouses."
   ]
  },
  {
   "cell_type": "code",
   "execution_count": null,
   "metadata": {
    "vscode": {
     "languageId": "shellscript"
    }
   },
   "outputs": [],
   "source": []
  }
 ],
 "metadata": {
  "language_info": {
   "name": "python"
  }
 },
 "nbformat": 4,
 "nbformat_minor": 2
}
